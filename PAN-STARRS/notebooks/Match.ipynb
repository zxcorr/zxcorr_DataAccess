{
 "cells": [
  {
   "cell_type": "code",
   "execution_count": 1,
   "metadata": {},
   "outputs": [],
   "source": [
    "from astropy.table import Table, join, hstack\n",
    "from esutil import htm\n",
    "import numpy as np\n",
    "import random\n",
    "import sys\n",
    "import os\n"
   ]
  },
  {
   "cell_type": "code",
   "execution_count": 2,
   "metadata": {},
   "outputs": [],
   "source": [
    "def match(cat_1, cat_2, column_1, column_2, column_3, column_4,error):\n",
    "    h = htm.HTM(depth=10)\n",
    "    m1, m2, d12 = h.match(np.array(cat_1[column_1]), \n",
    "                          np.array(cat_1[column_3]),\n",
    "                          np.array(cat_2[column_2]), \n",
    "                          np.array(cat_2[column_4]),\n",
    "                          error, maxmatch=1)\n",
    "    \n",
    "    submatched = cat_1[m1]\n",
    "    manmatched = cat_2[m2]\n",
    "    matched = hstack([submatched, manmatched])\n",
    "      \n",
    "    return matched\n",
    "\n",
    "def match_tables(table, path_dir, path_new, col1, col2, col3, col4, error):\n",
    "    for i,filename in enumerate(os.listdir(path_dir)):\n",
    "        file_ = Table.read(os.path.join(path_dir,filename))\n",
    "        data = match(table, file_,col1,col2,col3,col4,error)\n",
    "        if len(data) != 0:\n",
    "            data.add_column(1.5, name = 'random')\n",
    "            for i in range(0, len(data)):\n",
    "                data[i]['random'] = np.random.random()\n",
    "            filename = 'match_' + filename\n",
    "        data.write(os.path.join(path_new,filename))\n",
    "    return None\n"
   ]
  },
  {
   "cell_type": "code",
   "execution_count": null,
   "metadata": {},
   "outputs": [],
   "source": []
  },
  {
   "cell_type": "code",
   "execution_count": 3,
   "metadata": {},
   "outputs": [],
   "source": [
    "def gluetable(path_dir, final_dest):\n",
    "    tables = []\n",
    "    for i,filename in enumerate(os.listdir(path_dir)):\n",
    "        tables.append(Table.read(os.path.join(path_dir,filename)))\n",
    "    table = vstack(tables)\n",
    "    table.write(final_dest, overwrite = True)\n",
    "    return table"
   ]
  },
  {
   "cell_type": "markdown",
   "metadata": {},
   "source": [
    "## GAMA x InputCatA xPS1"
   ]
  },
  {
   "cell_type": "code",
   "execution_count": null,
   "metadata": {},
   "outputs": [],
   "source": [
    "ps1 = '/home/priscila/devel/mestrado/ps1/64'\n",
    "gama = Table.read('/home/priscila/devel/mestrado/gama.fits')\n",
    "inputcat = Table.read('/home/priscila/devel/mestrado/InputCatA.fits')\n",
    "new_dir = '/home/priscila/devel/mestrado/resultados/ps1gama'\n",
    "final_dir = '/home/priscila/devel/mestrado/resultados/ps1gamacat'\n",
    "match_tables(gama,ps1, new_dir, 'RA','raMean','DEC','decMean', 0.00028)\n",
    "match_tables(inputcat, final_dir,final_dir, 'RA','RA','DEC','DEC', 0.000001)\n"
   ]
  },
  {
   "cell_type": "markdown",
   "metadata": {},
   "source": [
    "## GAMA x G02InputCatA x PS1"
   ]
  },
  {
   "cell_type": "code",
   "execution_count": null,
   "metadata": {},
   "outputs": [],
   "source": [
    "ps1 = '/home/priscila/devel/mestrado/ps1/64'\n",
    "gama = Table.read('/home/priscila/devel/mestrado/gama.fits')\n",
    "inputcat = Table.read('/home/priscila/devel/mestrado/G02InputCatA.fits')\n",
    "new_dir = '/home/priscila/devel/mestrado/resultados/ps1gama'\n",
    "final_dir = '/home/priscila/devel/mestrado/resultados/ps1gamag02cat'\n",
    "match_tables(gama,ps1, new_dir, 'RA','raMean','DEC','decMEan', 0.00028)\n",
    "match_tables(inputcat, new_dir,final_dir, 'RA','RA','DEC','DEC', 0.000001)"
   ]
  }
 ],
 "metadata": {
  "kernelspec": {
   "display_name": "Python 3",
   "language": "python",
   "name": "python3"
  },
  "language_info": {
   "codemirror_mode": {
    "name": "ipython",
    "version": 3
   },
   "file_extension": ".py",
   "mimetype": "text/x-python",
   "name": "python",
   "nbconvert_exporter": "python",
   "pygments_lexer": "ipython3",
   "version": "3.8.5"
  }
 },
 "nbformat": 4,
 "nbformat_minor": 4
}
