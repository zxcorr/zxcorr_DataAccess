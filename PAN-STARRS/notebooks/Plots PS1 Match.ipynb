{
 "cells": [
  {
   "cell_type": "code",
   "execution_count": 1,
   "metadata": {},
   "outputs": [],
   "source": [
    "import pandas as pd\n",
    "import flags\n",
    "import numpy as np\n",
    "from matplotlib import pyplot\n",
    "import os\n",
    "from astropy.io import fits\n",
    "import astropy.io.fits as fits\n",
    "import astropy\n",
    "from astropy.table import Table, join, hstack, vstack\n",
    "from cycler import cycler\n",
    "import healpy as hp\n",
    "import pandas as pd\n",
    "from random import choice"
   ]
  },
  {
   "cell_type": "code",
   "execution_count": 2,
   "metadata": {},
   "outputs": [],
   "source": [
    "#tab = gama\n",
    "def convertepixel():\n",
    "    path_dir = \"/home/priscila/devel/mestrado/ps1/64\"\n",
    "    #path_dir = os.path.join(path_dir,dir)\n",
    "    #path_dir = os.path.join(path_dir,'32768')\n",
    "    for i,filename in enumerate(os.listdir(path_dir)):\n",
    "        if i==0:\n",
    "            pathfile = os.path.join(path_dir,filename)\n",
    "            tab = Table.read(pathfile)\n",
    "        else:\n",
    "            pathfile = os.path.join(path_dir,filename)\n",
    "            subtab = Table.read(pathfile)\n",
    "            tab = vstack([tab, subtab])\n",
    "    tab = tab.to_pandas()\n",
    "\n",
    "    tab = tab.iloc[tab[iPSFMag !=  -999]]\n",
    "    return tab\n",
    "#pixel = convertepixel()\n",
    "#pixel['graErr']*3600\n",
    "#pyplot.hist(pixel['graErr']*3600,bins = 30)\n",
    "#pyplot.hist(pixel['gdecErr']*3600,bins = 30)\n"
   ]
  },
  {
   "cell_type": "code",
   "execution_count": 3,
   "metadata": {},
   "outputs": [],
   "source": [
    "#ps1 = Table.read(\"/home/priscila/arquivosfits/64/PixelFit_64_24292.fits\")\n",
    "match = Table.read(\"/home/priscila/devel/mestrado/resultados_pixel/mean/match_match_PixelFit_64_25859.fits\").to_pandas()\n",
    "match = match.loc[match['iKronMag'] != -999]\n",
    "\n",
    "params_flags = {\"use\":True, \"table\":1, \"band\":'i'}\n",
    "constraints = {\"use\":True, \"type\":\"galaxy\", \"band\": \"i\"}\n",
    "constraints_star = {\"use\":True, \"type\":\"star\", \"band\": \"i\"}\n",
    "\n",
    "def query_constraints(table,constraints):\n",
    "    band_KronMag = table[''.join([constraints[\"band\"],'KronMag'])]\n",
    "    band_PSFMag  = table[''.join([constraints[\"band\"],'PSFMag'])]\n",
    "\n",
    "    if constraints['use']:\n",
    "        if constraints[\"type\"]==\"galaxy\":\n",
    "            constraint = (band_KronMag - band_PSFMag) + 0.192 - 0.120*(band_KronMag - 21.) - 0.018*(band_KronMag - 21.)*(band_KronMag - 21.)\n",
    "            list1 = np.where((table['gdec']>-999)*(table['gra']>-999)*(band_KronMag>-999)*(band_PSFMag>-999)*(constraint>0))  \n",
    "        \n",
    "        elif constraints[\"type\"]==\"star\":\n",
    "            constraint = (band_KronMag - band_PSFMag) + 0.192 - 0.120*(band_KronMag - 21.) - 0.018*(band_KronMag - 21.)*(band_KronMag - 21.)\n",
    "            list1 = np.where((table['gdec']>-999)*(table['gra']>-999)*(band_KronMag>-999)*(band_PSFMag>-999)*(constraint<0))\n",
    "        \n",
    "        else:    \n",
    "            list1 = np.where((table['gdec']>-999)*(table['gra']>-999)*(band_KronMag>-999)*(band_PSFMag>-999))\n",
    "    else:\n",
    "        list1 = np.where((table['gdec']>-999)*(table['gra']>-999))\n",
    "    \n",
    "    return table[list1]\n",
    "#ps1gal = query_constraints(ps1, constraints)\n",
    "#ps1star = query_constraints(ps1, constraints_star)\n"
   ]
  },
  {
   "cell_type": "markdown",
   "metadata": {},
   "source": [
    "## Para selecionar valores de uma coluna em um determinado range, podemos usar o método query do pandas:"
   ]
  },
  {
   "cell_type": "code",
   "execution_count": 4,
   "metadata": {},
   "outputs": [
    {
     "data": {
      "text/plain": [
       "Index(['SPECID', 'SURVEY', 'SURVEY_CODE', 'RA_1', 'DEC_1', 'WMIN', 'WMAX', 'Z',\n",
       "       'NQ', 'PROB',\n",
       "       ...\n",
       "       'yPSFMagErr', 'yApMag', 'yApMagErr', 'yKronMag', 'yKronMagErr',\n",
       "       'raMean', 'decMean', 'raStack', 'decStack', 'random'],\n",
       "      dtype='object', length=146)"
      ]
     },
     "execution_count": 4,
     "metadata": {},
     "output_type": "execute_result"
    }
   ],
   "source": [
    "match.columns"
   ]
  },
  {
   "cell_type": "code",
   "execution_count": 5,
   "metadata": {},
   "outputs": [],
   "source": [
    "minor = match[match['PETROMAG_I'] < 19.0]"
   ]
  },
  {
   "cell_type": "code",
   "execution_count": 6,
   "metadata": {},
   "outputs": [],
   "source": [
    "major = match[match['PETROMAG_I'] > 19.0]"
   ]
  },
  {
   "cell_type": "code",
   "execution_count": 7,
   "metadata": {},
   "outputs": [],
   "source": [
    "#fig = pyplot.figure()\n",
    "#grid = pyplot.GridSpec(1,1,top=2,right=2)\n",
    "#ax = pyplot.subplot(grid[0,0])\n",
    "#pyplot.scatter(pixel['iPSFMag'],pixel['iPSFMag'] - pixel['iKronMag'],s = 200, label ='PAN STARRS pixel')\n",
    "#pyplot.scatter(major['iPSFMag'],major['iPSFMag'] - major['iKronMag'] ,s= 190,color='pink', label=' Mag > 19')\n",
    "#pyplot.scatter(minor['iPSFMag'],minor['iPSFMag'] - minor['iKronMag'] ,s= 15,color='purple', label=' Mag < 19')\n",
    "#pyplot.scatter(ps1gal['iPSFMag'],ps1gal['iPSFMag'] - ps1gal['iKronMag'] ,s= 5,color='red', label='Stars')\n",
    "#pyplot.scatter(ps1star['iPSFMag'],ps1star['iPSFMag'] - ps1star['iKronMag'] ,s= 5,color='cyan', label='Galaxies')\n",
    "#pyplot.scatter(tab_new['iPSFMag'],tab_new['iPSFMag'] - tab_new['iKronMag'] ,s= 150,color='yellow', label=' ')\n",
    "#ax.axhline(y=0, color='black',ls='--')\n",
    "#ax.axvline(x=21, color='black',ls='--')\n",
    "#pyplot.legend(loc='best')\n",
    "#pyplot.xlim(15,21)\n",
    "#pyplot.ylim(-1,3)"
   ]
  },
  {
   "cell_type": "code",
   "execution_count": 8,
   "metadata": {},
   "outputs": [
    {
     "data": {
      "text/plain": [
       "0      0.181632\n",
       "1      0.978981\n",
       "2      0.702411\n",
       "3      0.091898\n",
       "4      0.076862\n",
       "         ...   \n",
       "173    0.622248\n",
       "174    0.122685\n",
       "175    0.387801\n",
       "176    0.819989\n",
       "177    0.830655\n",
       "Name: random, Length: 177, dtype: float64"
      ]
     },
     "execution_count": 8,
     "metadata": {},
     "output_type": "execute_result"
    }
   ],
   "source": [
    "match['random']"
   ]
  },
  {
   "cell_type": "code",
   "execution_count": 9,
   "metadata": {},
   "outputs": [
    {
     "data": {
      "text/plain": [
       "<matplotlib.collections.PathCollection at 0x7f5053da1cd0>"
      ]
     },
     "execution_count": 9,
     "metadata": {},
     "output_type": "execute_result"
    },
    {
     "data": {
      "image/png": "[encoded data removed]",
      "text/plain": [
       "<Figure size 432x288 with 1 Axes>"
      ]
     },
     "metadata": {
      "needs_background": "light"
     },
     "output_type": "display_data"
    }
   ],
   "source": [
    "pyplot.scatter(major['PETROMAG_R'] - major['MODELMAG_I'],major['rPSFMag'] - major['iKronMag'] ,s= 190,color='pink', label=' Mag > 19')\n"
   ]
  },
  {
   "cell_type": "code",
   "execution_count": 12,
   "metadata": {},
   "outputs": [],
   "source": [
    "import os\n",
    "from astropy.table import Table, vstack\n",
    "path_dir = '/home/priscila/devel/mestrado/des/64'\n",
    "final_dest = '/home/priscila/devel/mestrado/des_z.fits'\n",
    "tables = []\n",
    "for i,filename in enumerate(os.listdir(path_dir)):\n",
    "    tables.append(Table.read(os.path.join(path_dir,filename)))\n",
    "    #print(os.path.join(path_dir,filename))\n",
    "table = vstack(tables)\n",
    "table.write(final_dest, overwrite = True)\n"
   ]
  },
  {
   "cell_type": "code",
   "execution_count": 18,
   "metadata": {},
   "outputs": [],
   "source": [
    "path_dir = '/home/priscila/devel/mestrado/resultados_pixel/mean'\n",
    "final_dest = '/home/priscila/devel/mestrado/results_mean.fits'\n",
    "tables = []\n",
    "for i,filename in enumerate(os.listdir(path_dir)):\n",
    "    tables.append(Table.read(os.path.join(path_dir,filename)))\n",
    "table = vstack(tables)\n",
    "table.write(final_dest, overwrite = True)\n",
    "match = Table.read(final_dest).to_pandas()\n"
   ]
  },
  {
   "cell_type": "markdown",
   "metadata": {},
   "source": [
    "### Regiões do gama"
   ]
  },
  {
   "cell_type": "code",
   "execution_count": 19,
   "metadata": {},
   "outputs": [],
   "source": [
    "reg_ra = ((30.2,38.8),(129.0,141.0),(174.0,186.0),(211.5,223.5),(339.0, 351.0))"
   ]
  },
  {
   "cell_type": "code",
   "execution_count": 34,
   "metadata": {},
   "outputs": [],
   "source": [
    "reg_dec = ((-10.25,-3.72),(-2,3),(-3,2),(-2,3),(-35,-30))\n",
    "#for col in match.columns:\n",
    "#    print(col)\n",
    "match = match[match['iPSFMag'] != -999]\n",
    "match = match[match['rPSFMag'] != -999]\n",
    "match = match[match['iKronMag'] != -999]"
   ]
  },
  {
   "cell_type": "code",
   "execution_count": 52,
   "metadata": {},
   "outputs": [
    {
     "data": {
      "text/html": [
       "<div>\n",
       "<style scoped>\n",
       "    .dataframe tbody tr th:only-of-type {\n",
       "        vertical-align: middle;\n",
       "    }\n",
       "\n",
       "    .dataframe tbody tr th {\n",
       "        vertical-align: top;\n",
       "    }\n",
       "\n",
       "    .dataframe thead th {\n",
       "        text-align: right;\n",
       "    }\n",
       "</style>\n",
       "<table border=\"1\" class=\"dataframe\">\n",
       "  <thead>\n",
       "    <tr style=\"text-align: right;\">\n",
       "      <th></th>\n",
       "      <th>SPECID</th>\n",
       "      <th>SURVEY</th>\n",
       "      <th>SURVEY_CODE</th>\n",
       "      <th>RA_1</th>\n",
       "      <th>DEC_1</th>\n",
       "      <th>WMIN</th>\n",
       "      <th>WMAX</th>\n",
       "      <th>Z</th>\n",
       "      <th>NQ</th>\n",
       "      <th>PROB</th>\n",
       "      <th>...</th>\n",
       "      <th>yPSFMagErr</th>\n",
       "      <th>yApMag</th>\n",
       "      <th>yApMagErr</th>\n",
       "      <th>yKronMag</th>\n",
       "      <th>yKronMagErr</th>\n",
       "      <th>raMean</th>\n",
       "      <th>decMean</th>\n",
       "      <th>raStack</th>\n",
       "      <th>decStack</th>\n",
       "      <th>random</th>\n",
       "    </tr>\n",
       "  </thead>\n",
       "  <tbody>\n",
       "  </tbody>\n",
       "</table>\n",
       "<p>0 rows × 146 columns</p>\n",
       "</div>"
      ],
      "text/plain": [
       "Empty DataFrame\n",
       "Columns: [SPECID, SURVEY, SURVEY_CODE, RA_1, DEC_1, WMIN, WMAX, Z, NQ, PROB, FILENAME, URL, URL_IMG, CATAID_1, GAMA_NAME, IC_FLAG, DIST, IS_SBEST, IS_BEST, CATAID_2, OBJID, RA_2, DEC_2, FLAGS, PRIMTARGET, TYPE, PSFMAG_R, FIBERMAG_R, FLAGS_R, EXTINCTION_R, PETRORAD_R, PETROR90_R, PETROR50_R, PETROMAG_G, PETROMAG_R, PETROMAG_I, MODELMAG_U, MODELMAG_G, MODELMAG_R, MODELMAG_I, MODELMAG_Z, STATUS, RUN, MASK_IC_10, MASK_IC_12, MASK_SATUR, EXCEPTION_FLAG, objID, uniquePspsSTid, ippObjID, surveyID, tessID, projectionID, skyCellID, randomStackObjID, primaryDetection, bestDetection, dvoRegionID, processingVersion, gippDetectID, gstackDetectID, gstackImageId, gra, gdec, graErr, gdecErr, gEpoch, gPSFMag, gPSFMagErr, gApMag, gApMagErr, gKronMag, gKronMagErr, ginfoFlag, ginfoFlag2, ginfoFlag3, gnFrames, rippDetectID, rstackDetectID, rstackImageId, rra, rdec, rraErr, rdecErr, rEpoch, rPSFMag, rPSFMagErr, rApMag, rApMagErr, rKronMag, rKronMagErr, rinfoFlag, rinfoFlag2, rinfoFlag3, rnFrames, iippDetectID, istackDetectID, istackImageId, ira, idec, ...]\n",
       "Index: []\n",
       "\n",
       "[0 rows x 146 columns]"
      ]
     },
     "execution_count": 52,
     "metadata": {},
     "output_type": "execute_result"
    },
    {
     "data": {
      "image/png": "[encoded data removed]",
      "text/plain": [
       "<Figure size 432x288 with 1 Axes>"
      ]
     },
     "metadata": {
      "needs_background": "light"
     },
     "output_type": "display_data"
    }
   ],
   "source": [
    "colors = ('b','g','r','c','m','y','k','w')\n",
    "region = match[match['RA_1'] > 30.2]\n",
    "region = match[match['RA_1'] < 38.8]\n",
    "region = match[match['DEC_1']>-10.25]\n",
    "region = match[match['DEC_1']<-3.72]\n",
    "pyplot.scatter(region['PETROMAG_R'] - region['MODELMAG_I'], region['rPSFMag'] - region['iKronMag'])\n",
    "region.head()"
   ]
  },
  {
   "cell_type": "code",
   "execution_count": 47,
   "metadata": {},
   "outputs": [
    {
     "data": {
      "text/plain": [
       "<matplotlib.collections.PathCollection at 0x7f5049aea3a0>"
      ]
     },
     "execution_count": 47,
     "metadata": {},
     "output_type": "execute_result"
    },
    {
     "data": {
      "image/png": "[encoded data removed]",
      "text/plain": [
       "<Figure size 432x288 with 1 Axes>"
      ]
     },
     "metadata": {
      "needs_background": "light"
     },
     "output_type": "display_data"
    }
   ],
   "source": [
    "region = match[match['RA_1'] > 129.0]\n",
    "region = match[match['RA_1'] < 141.0]\n",
    "region = match[match['DEC_1']>-2]\n",
    "region = match[match['DEC_1']<3]\n",
    "pyplot.scatter(region['PETROMAG_R'] - region['MODELMAG_I'], region['rPSFMag'] - region['iKronMag'])"
   ]
  },
  {
   "cell_type": "code",
   "execution_count": 50,
   "metadata": {},
   "outputs": [
    {
     "data": {
      "text/plain": [
       "<matplotlib.collections.PathCollection at 0x7f504a096f40>"
      ]
     },
     "execution_count": 50,
     "metadata": {},
     "output_type": "execute_result"
    },
    {
     "data": {
      "image/png": "[encoded data removed]",
      "text/plain": [
       "<Figure size 432x288 with 1 Axes>"
      ]
     },
     "metadata": {
      "needs_background": "light"
     },
     "output_type": "display_data"
    }
   ],
   "source": [
    "region = match[match['RA_1'] > 174]\n",
    "region = match[match['RA_1'] < 186]\n",
    "region = match[match['DEC_1']>-3]\n",
    "region = match[match['DEC_1']<2]\n",
    "pyplot.scatter(region['PETROMAG_R'] - region['MODELMAG_I'], region['rPSFMag'] - region['iKronMag'])"
   ]
  },
  {
   "cell_type": "code",
   "execution_count": 48,
   "metadata": {},
   "outputs": [
    {
     "data": {
      "text/plain": [
       "<matplotlib.collections.PathCollection at 0x7f504a06a550>"
      ]
     },
     "execution_count": 48,
     "metadata": {},
     "output_type": "execute_result"
    },
    {
     "data": {
      "image/png": "[encoded data removed]",
      "text/plain": [
       "<Figure size 432x288 with 1 Axes>"
      ]
     },
     "metadata": {
      "needs_background": "light"
     },
     "output_type": "display_data"
    }
   ],
   "source": [
    "region = match[match['RA_1'] > 339]\n",
    "region = match[match['RA_1'] < 351]\n",
    "region = match[match['DEC_1']> -35]\n",
    "region = match[match['DEC_1']< -30]\n",
    "pyplot.scatter(region['PETROMAG_R'] - region['MODELMAG_I'], region['rPSFMag'] - region['iKronMag'])"
   ]
  },
  {
   "cell_type": "code",
   "execution_count": 51,
   "metadata": {},
   "outputs": [
    {
     "data": {
      "text/html": [
       "<div>\n",
       "<style scoped>\n",
       "    .dataframe tbody tr th:only-of-type {\n",
       "        vertical-align: middle;\n",
       "    }\n",
       "\n",
       "    .dataframe tbody tr th {\n",
       "        vertical-align: top;\n",
       "    }\n",
       "\n",
       "    .dataframe thead th {\n",
       "        text-align: right;\n",
       "    }\n",
       "</style>\n",
       "<table border=\"1\" class=\"dataframe\">\n",
       "  <thead>\n",
       "    <tr style=\"text-align: right;\">\n",
       "      <th></th>\n",
       "      <th>SPECID</th>\n",
       "      <th>SURVEY</th>\n",
       "      <th>SURVEY_CODE</th>\n",
       "      <th>RA_1</th>\n",
       "      <th>DEC_1</th>\n",
       "      <th>WMIN</th>\n",
       "      <th>WMAX</th>\n",
       "      <th>Z</th>\n",
       "      <th>NQ</th>\n",
       "      <th>PROB</th>\n",
       "      <th>...</th>\n",
       "      <th>yPSFMagErr</th>\n",
       "      <th>yApMag</th>\n",
       "      <th>yApMagErr</th>\n",
       "      <th>yKronMag</th>\n",
       "      <th>yKronMagErr</th>\n",
       "      <th>raMean</th>\n",
       "      <th>decMean</th>\n",
       "      <th>raStack</th>\n",
       "      <th>decStack</th>\n",
       "      <th>random</th>\n",
       "    </tr>\n",
       "  </thead>\n",
       "  <tbody>\n",
       "    <tr>\n",
       "      <th>0</th>\n",
       "      <td>b'2dF291543'</td>\n",
       "      <td>b'2dFGRS'</td>\n",
       "      <td>2</td>\n",
       "      <td>176.96523</td>\n",
       "      <td>1.20800</td>\n",
       "      <td>3693.459961</td>\n",
       "      <td>8103.65</td>\n",
       "      <td>0.09450</td>\n",
       "      <td>4</td>\n",
       "      <td>0.0</td>\n",
       "      <td>...</td>\n",
       "      <td>0.006721</td>\n",
       "      <td>17.1034</td>\n",
       "      <td>0.000935</td>\n",
       "      <td>16.8133</td>\n",
       "      <td>0.009004</td>\n",
       "      <td>176.965461</td>\n",
       "      <td>1.208094</td>\n",
       "      <td>176.965456</td>\n",
       "      <td>1.208118</td>\n",
       "      <td>0.090408</td>\n",
       "    </tr>\n",
       "    <tr>\n",
       "      <th>1</th>\n",
       "      <td>b'2dF291587'</td>\n",
       "      <td>b'2dFGRS'</td>\n",
       "      <td>2</td>\n",
       "      <td>176.91706</td>\n",
       "      <td>1.33958</td>\n",
       "      <td>3693.459961</td>\n",
       "      <td>8103.65</td>\n",
       "      <td>0.10755</td>\n",
       "      <td>4</td>\n",
       "      <td>0.0</td>\n",
       "      <td>...</td>\n",
       "      <td>0.059455</td>\n",
       "      <td>18.7997</td>\n",
       "      <td>0.002041</td>\n",
       "      <td>18.6640</td>\n",
       "      <td>0.048555</td>\n",
       "      <td>176.917205</td>\n",
       "      <td>1.339747</td>\n",
       "      <td>176.917228</td>\n",
       "      <td>1.339756</td>\n",
       "      <td>0.083251</td>\n",
       "    </tr>\n",
       "    <tr>\n",
       "      <th>2</th>\n",
       "      <td>b'2dF291607'</td>\n",
       "      <td>b'2dFGRS'</td>\n",
       "      <td>2</td>\n",
       "      <td>176.89778</td>\n",
       "      <td>1.06449</td>\n",
       "      <td>3693.459961</td>\n",
       "      <td>8103.65</td>\n",
       "      <td>0.10441</td>\n",
       "      <td>4</td>\n",
       "      <td>0.0</td>\n",
       "      <td>...</td>\n",
       "      <td>0.005612</td>\n",
       "      <td>16.7461</td>\n",
       "      <td>0.000752</td>\n",
       "      <td>16.5887</td>\n",
       "      <td>0.007050</td>\n",
       "      <td>176.897954</td>\n",
       "      <td>1.064674</td>\n",
       "      <td>176.897966</td>\n",
       "      <td>1.064692</td>\n",
       "      <td>0.195966</td>\n",
       "    </tr>\n",
       "    <tr>\n",
       "      <th>3</th>\n",
       "      <td>b'2dF291676'</td>\n",
       "      <td>b'2dFGRS'</td>\n",
       "      <td>2</td>\n",
       "      <td>176.81222</td>\n",
       "      <td>0.97636</td>\n",
       "      <td>3611.969971</td>\n",
       "      <td>8021.41</td>\n",
       "      <td>0.13262</td>\n",
       "      <td>4</td>\n",
       "      <td>0.0</td>\n",
       "      <td>...</td>\n",
       "      <td>0.007219</td>\n",
       "      <td>17.0277</td>\n",
       "      <td>0.000856</td>\n",
       "      <td>16.9601</td>\n",
       "      <td>0.009977</td>\n",
       "      <td>176.812374</td>\n",
       "      <td>0.976474</td>\n",
       "      <td>176.812398</td>\n",
       "      <td>0.976473</td>\n",
       "      <td>0.953159</td>\n",
       "    </tr>\n",
       "    <tr>\n",
       "      <th>4</th>\n",
       "      <td>b'2dF291689'</td>\n",
       "      <td>b'2dFGRS'</td>\n",
       "      <td>2</td>\n",
       "      <td>176.80076</td>\n",
       "      <td>0.96111</td>\n",
       "      <td>3635.189941</td>\n",
       "      <td>8044.87</td>\n",
       "      <td>0.12559</td>\n",
       "      <td>4</td>\n",
       "      <td>0.0</td>\n",
       "      <td>...</td>\n",
       "      <td>0.007909</td>\n",
       "      <td>17.2559</td>\n",
       "      <td>0.000951</td>\n",
       "      <td>17.0795</td>\n",
       "      <td>0.010335</td>\n",
       "      <td>176.800919</td>\n",
       "      <td>0.961275</td>\n",
       "      <td>176.800945</td>\n",
       "      <td>0.961275</td>\n",
       "      <td>0.874025</td>\n",
       "    </tr>\n",
       "  </tbody>\n",
       "</table>\n",
       "<p>5 rows × 146 columns</p>\n",
       "</div>"
      ],
      "text/plain": [
       "         SPECID     SURVEY  SURVEY_CODE       RA_1    DEC_1         WMIN  \\\n",
       "0  b'2dF291543'  b'2dFGRS'            2  176.96523  1.20800  3693.459961   \n",
       "1  b'2dF291587'  b'2dFGRS'            2  176.91706  1.33958  3693.459961   \n",
       "2  b'2dF291607'  b'2dFGRS'            2  176.89778  1.06449  3693.459961   \n",
       "3  b'2dF291676'  b'2dFGRS'            2  176.81222  0.97636  3611.969971   \n",
       "4  b'2dF291689'  b'2dFGRS'            2  176.80076  0.96111  3635.189941   \n",
       "\n",
       "      WMAX        Z  NQ  PROB  ... yPSFMagErr   yApMag yApMagErr  yKronMag  \\\n",
       "0  8103.65  0.09450   4   0.0  ...   0.006721  17.1034  0.000935   16.8133   \n",
       "1  8103.65  0.10755   4   0.0  ...   0.059455  18.7997  0.002041   18.6640   \n",
       "2  8103.65  0.10441   4   0.0  ...   0.005612  16.7461  0.000752   16.5887   \n",
       "3  8021.41  0.13262   4   0.0  ...   0.007219  17.0277  0.000856   16.9601   \n",
       "4  8044.87  0.12559   4   0.0  ...   0.007909  17.2559  0.000951   17.0795   \n",
       "\n",
       "  yKronMagErr      raMean   decMean     raStack  decStack    random  \n",
       "0    0.009004  176.965461  1.208094  176.965456  1.208118  0.090408  \n",
       "1    0.048555  176.917205  1.339747  176.917228  1.339756  0.083251  \n",
       "2    0.007050  176.897954  1.064674  176.897966  1.064692  0.195966  \n",
       "3    0.009977  176.812374  0.976474  176.812398  0.976473  0.953159  \n",
       "4    0.010335  176.800919  0.961275  176.800945  0.961275  0.874025  \n",
       "\n",
       "[5 rows x 146 columns]"
      ]
     },
     "execution_count": 51,
     "metadata": {},
     "output_type": "execute_result"
    }
   ],
   "source": [
    "region.head()"
   ]
  },
  {
   "cell_type": "code",
   "execution_count": 9,
   "metadata": {},
   "outputs": [],
   "source": [
    "### Abrindo os dados do des"
   ]
  },
  {
   "cell_type": "code",
   "execution_count": 15,
   "metadata": {},
   "outputs": [
    {
     "data": {
      "text/plain": [
       "0         -52.626246\n",
       "1         -52.630564\n",
       "2         -52.662120\n",
       "3         -52.631423\n",
       "4         -52.634736\n",
       "             ...    \n",
       "1243762   -53.466156\n",
       "1243763   -53.466798\n",
       "1243764   -53.468595\n",
       "1243765   -15.090676\n",
       "1243766   -15.092527\n",
       "Name: DEC, Length: 1243767, dtype: float64"
      ]
     },
     "execution_count": 15,
     "metadata": {},
     "output_type": "execute_result"
    }
   ],
   "source": [
    "from astropy.table import Table\n",
    "temp = Table.read(\"/home/priscila/devel/mestrado/des_z.fits\").to_pandas()\n",
    "temp['DEC']"
   ]
  },
  {
   "cell_type": "code",
   "execution_count": null,
   "metadata": {},
   "outputs": [],
   "source": []
  }
 ],
 "metadata": {
  "kernelspec": {
   "display_name": "Python 3",
   "language": "python",
   "name": "python3"
  },
  "language_info": {
   "codemirror_mode": {
    "name": "ipython",
    "version": 3
   },
   "file_extension": ".py",
   "mimetype": "text/x-python",
   "name": "python",
   "nbconvert_exporter": "python",
   "pygments_lexer": "ipython3",
   "version": "3.8.5"
  }
 },
 "nbformat": 4,
 "nbformat_minor": 4
}
