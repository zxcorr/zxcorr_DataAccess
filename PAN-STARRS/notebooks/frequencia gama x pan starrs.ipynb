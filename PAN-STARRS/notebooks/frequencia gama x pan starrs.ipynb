{
 "cells": [
  {
   "cell_type": "code",
   "execution_count": 1,
   "metadata": {},
   "outputs": [],
   "source": [
    "#!/usr/bin/env python\n",
    "# -*- coding: utf-8 -*-\n",
    "\"\"\"\n",
    "Created on Fri Sep  4 08:25:01 2020\n",
    "\n",
    "@author: priscila\n",
    "\"\"\"\n",
    "import healpy as hp\n",
    "from astropy.table import Table, join, hstack, vstack\n",
    "import os\n",
    "import sys\n",
    "import numpy as np\n",
    "import matplotlib.pyplot as plt\n",
    "from collections import Counter, OrderedDict\n",
    "\n",
    "def convertepixel(path_dir):\n",
    "    pixeldic = {}\n",
    "    list_of_rows = []\n",
    "    #path_dir = os.path.join(path_dir,dir)\n",
    "    #path_dir = os.path.join(path_dir,'32768')\n",
    "    for i,filename in enumerate(os.listdir(path_dir)):\n",
    "        if i==0:\n",
    "            pathfile = os.path.join(path_dir,filename)\n",
    "            tab = Table.read(pathfile)\n",
    "        else:\n",
    "            pathfile = os.path.join(path_dir,filename)\n",
    "            subtab = Table.read(pathfile)\n",
    "            tab = vstack([tab, subtab])\n",
    "            \n",
    "    \n",
    "        tmpfile = Table.read(os.path.join(path_dir,filename))\n",
    "        ra = tmpfile['gra'][0]\n",
    "        dec = tmpfile['gdec'][0]\n",
    "        tmpfile = tmpfile.to_pandas()\n",
    "        rows, columns = tmpfile.shape\n",
    "        pixeldic[hp.ang2pix(64,ra,dec,lonlat = True)] = rows\n",
    "\n",
    "    return tab, pixeldic\n",
    "\n",
    "def catch_pixel(ra,dec):\n",
    "    NSIDE = 64\n",
    "    return hp.pixelfunc.ang2pix(NSIDE, ra, dec, lonlat = True)\n",
    "\n",
    "\n",
    "data = Table.read('/home/priscila/devel/mestrado/gama.fits').to_pandas()\n",
    "pix, dic_pix = convertepixel( '/home/priscila/devel/mestrado/ps1/64')\n",
    "pix = pix.to_pandas().to_numpy()\n",
    "data = data.to_numpy()\n",
    "#path_dir = sys.argv[2]\n",
    "ra = data[:,3]\n",
    "dec = data[:,4]\n",
    "rapix = pix[:,15]\n",
    "decpix = pix[:,16]\n",
    "NSIDE = 64\n",
    "NPIX = hp.nside2npix(NSIDE)\n",
    "result_gama = np.array(list(map(catch_pixel,ra,dec)))\n",
    "result = Counter(result_gama)\n",
    "percent = []\n",
    "for key in result:\n",
    "    percent.append(float(float(dic_pix[key])/float(result[key])))\n",
    "result_pix = np.array(list(map(catch_pixel,rapix,decpix)))   \n",
    "#plt.hist(result)\n",
    "#plt.hist([result_gama,result_pix],bins = 377,label=['GAMA', 'PAN STARRS'])\n",
    "#plt.show()\n",
    "#plt.hist([percent],label=['Match Percentage'])\n",
    "#plt.legend(loc='upper right')\n",
    "#plt.show()"
   ]
  },
  {
   "cell_type": "code",
   "execution_count": 2,
   "metadata": {},
   "outputs": [
    {
     "name": "stdout",
     "output_type": "stream",
     "text": [
      "214624\n"
     ]
    }
   ],
   "source": [
    "print(len(result_gama))\n"
   ]
  },
  {
   "cell_type": "code",
   "execution_count": 8,
   "metadata": {},
   "outputs": [
    {
     "data": {
      "text/plain": [
       "<matplotlib.legend.Legend at 0x7eff39fe9390>"
      ]
     },
     "execution_count": 8,
     "metadata": {},
     "output_type": "execute_result"
    },
    {
     "data": {
      "image/png": "[encoded data removed]",
      "text/plain": [
       "<Figure size 432x288 with 2 Axes>"
      ]
     },
     "metadata": {
      "needs_background": "light"
     },
     "output_type": "display_data"
    }
   ],
   "source": [
    "fig = plt.figure()\n",
    "grid = plt.GridSpec(1,2,top=1.5,right=2)\n",
    "ax = plt.subplot(grid[0,0])\n",
    "plt.hist([result_gama,result_pix],bins = 377,label=['GAMA', 'PAN STARRS'])\n",
    "plt.legend(loc='best')\n",
    "ax1 = plt.subplot(grid[0,1])\n",
    "ax1.set_xlim(0.78,1.0)\n",
    "plt.hist([percent],label=['Match Percentage'], bins=500)\n",
    "plt.legend(loc='best')"
   ]
  },
  {
   "cell_type": "code",
   "execution_count": null,
   "metadata": {},
   "outputs": [],
   "source": []
  }
 ],
 "metadata": {
  "kernelspec": {
   "display_name": "Python 3",
   "language": "python",
   "name": "python3"
  },
  "language_info": {
   "codemirror_mode": {
    "name": "ipython",
    "version": 3
   },
   "file_extension": ".py",
   "mimetype": "text/x-python",
   "name": "python",
   "nbconvert_exporter": "python",
   "pygments_lexer": "ipython3",
   "version": "3.8.5"
  }
 },
 "nbformat": 4,
 "nbformat_minor": 2
}
