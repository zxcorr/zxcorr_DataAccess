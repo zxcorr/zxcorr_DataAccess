{
 "cells": [
  {
   "cell_type": "code",
   "execution_count": 26,
   "metadata": {},
   "outputs": [],
   "source": [
    "import healpy as hp\n",
    "import os,sys\n",
    "def exist_or_not_file(params,restart):\n",
    "    if not restart:\n",
    "        str_npix      = str(int(8.809261000000000000e+06))\n",
    "        str_nside     = str(params)\n",
    "        str_pix       = str(int(pixel))\n",
    "        len_str_npix  = len(str_npix)\n",
    "        len_str_pix   = len(str_pix)\n",
    "        len_zero      = len_str_npix - len_str_pix\n",
    "        file_ = \"_\".join((\"PixelFit\",str_nside,\"0\"*len_zero+str_pix))\n",
    "        file_ = \".\".join((file_,\"fits\"))\n",
    "        path = os.getcwd()\n",
    "        path = os.path.join(path,\"FITS\",str_nside,file_)\n",
    "       # print('foi')\n",
    "        return os.path.isfile(path)\n",
    "    elif restart:\n",
    "        print('não foi')\n",
    "        return False\n",
    "    else:\n",
    "        raise NameError\n"
   ]
  },
  {
   "cell_type": "code",
   "execution_count": 27,
   "metadata": {},
   "outputs": [
    {
     "data": {
      "text/plain": [
       "'/home/rafael/Projetos/DESzxcorr/notebooks/FITS/1024/PixelFit_1024_10443406.fits'"
      ]
     },
     "execution_count": 27,
     "metadata": {},
     "output_type": "execute_result"
    }
   ],
   "source": [
    "exist_or_not_file(1024,False)"
   ]
  },
  {
   "cell_type": "code",
   "execution_count": 22,
   "metadata": {},
   "outputs": [
    {
     "data": {
      "text/plain": [
       "10443406"
      ]
     },
     "execution_count": 22,
     "metadata": {},
     "output_type": "execute_result"
    }
   ],
   "source": [
    "hp.nest2ring(1024,int(8809261))"
   ]
  }
 ],
 "metadata": {
  "kernelspec": {
   "display_name": "Python 3",
   "language": "python",
   "name": "python3"
  },
  "language_info": {
   "codemirror_mode": {
    "name": "ipython",
    "version": 3
   },
   "file_extension": ".py",
   "mimetype": "text/x-python",
   "name": "python",
   "nbconvert_exporter": "python",
   "pygments_lexer": "ipython3",
   "version": "3.6.9"
  }
 },
 "nbformat": 4,
 "nbformat_minor": 4
}
